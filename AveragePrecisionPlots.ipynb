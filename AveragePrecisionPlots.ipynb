{
 "cells": [
  {
   "cell_type": "code",
   "execution_count": 1,
   "metadata": {},
   "outputs": [],
   "source": [
    "#True positive: class correct, confidence/IoU above threshold\n",
    "#False positive: class correct, confidence/IoU below threshold\n",
    "#True negative: \n",
    "#False negative: class incorrect or no detection\n",
    "\n",
    "#precision : TP / TP + FP (all detections) - \n",
    "\n",
    "#recall : TP / TP + FN (all ground truths) - 90 grouth truths per validation set\n",
    "import pandas as pd\n",
    "import numpy as np\n",
    "import os\n",
    "import matplotlib.pyplot as plt\n",
    "\n",
    "class APCalculator():\n",
    "    \n",
    "    \n",
    "    def getAP(self, iou_thresh, plot=False):\n",
    "        recall, precision = self.getRecallPrecision(iou_thresh)\n",
    "        max_precision = []\n",
    "        ap = 0\n",
    "        for i in range(0, len(recall)):\n",
    "            cur_recall = recall[i]\n",
    "            #get maximum precision to the right of current recall\n",
    "            cur_max_precision = max(precision)\n",
    "            precision.pop(0)\n",
    "            max_precision.append(cur_max_precision)\n",
    "            \n",
    "        max_precision.append(0)\n",
    "        recall.append(max(recall))\n",
    "        \n",
    "        prev_recall = 0\n",
    "        cur_max_precision = max(max_precision)\n",
    "        for i in range(0, len(recall)):\n",
    "            if(max_precision[i] < cur_max_precision):\n",
    "                ap = ap + ((recall[i-1] - prev_recall) * cur_max_precision)\n",
    "                prev_recall = recall[i-1]\n",
    "                cur_max_precision = max_precision[i]\n",
    "                \n",
    "        if plot: \n",
    "            plt.plot(recall, max_precision)\n",
    "            axes = plt.gca()\n",
    "            axes.set_xlim([0,1.1])\n",
    "            axes.set_ylim([0,1.1])\n",
    "    \n",
    "        return ap\n",
    "    \n",
    "    def plotPrecisionRecall(self, iou_thresh):\n",
    "        recall, precision = self.getRecallPrecision(iou_thresh)\n",
    "        plt.plot(recall, precision)\n",
    "        axes = plt.gca()\n",
    "        axes.set_xlim([0,1.1])\n",
    "        axes.set_ylim([0,1.1])\n",
    "        axes.set_ylabel('Precision')\n",
    "        axes.set_xlabel('Recall')\n",
    "        axes.set_title('{0} at IoU {1}'.format(os.path.basename(self.results_file), iou_thresh))\n",
    "\n",
    "        \n",
    "    def getRecallPrecision(self, iou_thresh):\n",
    "        #iterate thru detections in descending confidence order, accumulate TP and FP\n",
    "        acc_TP = 0\n",
    "        acc_FP = 0\n",
    "        \n",
    "        recall = []\n",
    "        precision = []\n",
    "        \n",
    "        for index, row in self.scores_df.iterrows():\n",
    "            cur_confidence = row['confidence']\n",
    "            cur_iou = row['iou']\n",
    "            if cur_iou >= iou_thresh:\n",
    "                #true positive\n",
    "                acc_TP = acc_TP + 1\n",
    "            else:\n",
    "                #false positive\n",
    "                acc_FP = acc_FP + 1\n",
    "            #calculate current precision and recall\n",
    "            cur_recall = acc_TP / self.gt_count\n",
    "            cur_precision = acc_TP / (acc_TP + acc_FP)\n",
    "            \n",
    "            recall.append(cur_recall)\n",
    "            precision.append(cur_precision)\n",
    "    \n",
    "        return recall, precision\n",
    "    \n",
    "    def __init__(self, results_file, num_ground_truths):\n",
    "        self.results_file = results_file\n",
    "        self.gt_count = num_ground_truths\n",
    "        #self.scores_df = pd.DataFrame(columns=['confidence','iou','det_class','gt_class'], dtype=np.float)\n",
    "        #read results file\n",
    "        scores_list = []\n",
    "        with open(self.results_file, 'r') as r_file:\n",
    "            line = r_file.readline()\n",
    "            while line != '':\n",
    "                scores = line.split(',')\n",
    "                confidence = float(scores[0].split(':')[1])\n",
    "                iou = float(scores[1].split(':')[1])\n",
    "                det_class = int(scores[2].split(':')[1])\n",
    "                gt_class = int(scores[3].split(':')[1])\n",
    "                #remove detections that have incorrect class\n",
    "                if(det_class == gt_class):\n",
    "                    scores_list.append([confidence, iou])                \n",
    "                #print('{0}, {1}, {2}, {3}'.format(confidence, iou, det_class, gt_class))\n",
    "                line = r_file.readline()\n",
    "        self.scores_df = pd.DataFrame(data=scores_list, columns=['confidence','iou'], dtype=np.float).sort_values(by='confidence', ascending=False)\n",
    "        \n"
   ]
  },
  {
   "cell_type": "code",
   "execution_count": 2,
   "metadata": {},
   "outputs": [
    {
     "data": {
      "text/plain": [
       "0.7013526793058108"
      ]
     },
     "execution_count": 2,
     "metadata": {},
     "output_type": "execute_result"
    },
    {
     "data": {
      "image/png": "[encoded data removed]",
      "text/plain": [
       "<Figure size 432x288 with 1 Axes>"
      ]
     },
     "metadata": {
      "needs_background": "light"
     },
     "output_type": "display_data"
    }
   ],
   "source": [
    "results_file = '/home/idies/workspace/paradim_data/models/stepsPerEpoch/100/0_crossval_results.txt'\n",
    "ap_calc = APCalculator(results_file, num_ground_truths = 90)\n",
    "ap_calc.plotPrecisionRecall(iou_thresh=.75)\n",
    "ap_calc.getAP(iou_thresh=.75, plot=True)\n",
    "#recall, precision = ap_calc.getRecallPrecision(iou_thresh=.5)"
   ]
  },
  {
   "cell_type": "code",
   "execution_count": 3,
   "metadata": {},
   "outputs": [],
   "source": [
    "def calcAPavg(steps_root, iou_thresholds, ground_truth_count):\n",
    "    #ret_steps = os.listdir(steps_root)\n",
    "    ret_steps = ['10', '25', '50', '75', '100', '200', '500']\n",
    "    ret_aps = []\n",
    "    for steps in ret_steps: #formerly os.listdir(steps_root)\n",
    "        grand_avg_ap = 0\n",
    "        for iou_threshold in iou_thresholds:\n",
    "            results_files = []\n",
    "            for files in os.listdir(os.path.join(steps_root, steps)):\n",
    "                if 'results.txt' in files:\n",
    "                    results_files.append(os.path.join(steps_root, steps, files))\n",
    "            cross_val_count = 0\n",
    "            avg_ap = 0\n",
    "            for result_file in results_files:\n",
    "                ap_calc = APCalculator(result_file, num_ground_truths=ground_truth_count)\n",
    "                avg_ap = avg_ap + ap_calc.getAP(iou_thresh=iou_threshold)\n",
    "                cross_val_count = cross_val_count + 1\n",
    "            avg_ap = avg_ap / cross_val_count\n",
    "            grand_avg_ap = grand_avg_ap + avg_ap\n",
    "        grand_avg_ap = grand_avg_ap / len(iou_thresholds)\n",
    "        ret_aps.append(grand_avg_ap)\n",
    "        #print(\"step count: {0}, AP: {1}\".format(steps, grand_avg_ap))\n",
    "    return ret_steps, ret_aps"
   ]
  },
  {
   "cell_type": "code",
   "execution_count": 4,
   "metadata": {},
   "outputs": [],
   "source": [
    "steps_root = '/home/idies/workspace/paradim_data/models/stepsPerEpoch'\n",
    "iou_thresholds = [.5, .55, .6, .65, .7, .75, .8, .85, .9, .95]\n",
    "#iou_thresholds = [.5]\n",
    "ground_truth_count = 90 #max possible detections\n",
    "\n",
    "steps, apAll = calcAPavg(steps_root, iou_thresholds, ground_truth_count)\n",
    "iou_thresholds = [.5]\n",
    "steps, ap50 = calcAPavg(steps_root, iou_thresholds, ground_truth_count)\n",
    "iou_thresholds = [.75]\n",
    "steps, ap75 = calcAPavg(steps_root, iou_thresholds, ground_truth_count)\n",
    "\n"
   ]
  },
  {
   "cell_type": "code",
   "execution_count": 6,
   "metadata": {},
   "outputs": [
    {
     "data": {
      "image/png": "[encoded data removed]",
      "text/plain": [
       "<Figure size 1080x648 with 1 Axes>"
      ]
     },
     "metadata": {
      "needs_background": "light"
     },
     "output_type": "display_data"
    }
   ],
   "source": [
    "labels = steps\n",
    "x = np.arange(len(labels))  # the label locations\n",
    "width = 0.25  # the width of the bars\n",
    "\n",
    "fig, ax = plt.subplots()\n",
    "rects1 = ax.bar(x - width, apAll, width, label='AP_.50:.05:.95')\n",
    "rects2 = ax.bar(x, ap75, width, label='AP_.75')\n",
    "rects3 = ax.bar(x + width, ap50, width, label='AP_.50')\n",
    "\n",
    "\n",
    "# Add some text for labels, title and custom x-axis tick labels, etc.\n",
    "ax.set_ylabel('Average Precision Score')\n",
    "ax.set_xlabel('Training Steps per Epoch')\n",
    "ax.set_title('Effect of Training Steps Per Epoch on Mask Precision')\n",
    "ax.set_xticks(x)\n",
    "ax.set_xticklabels(labels)\n",
    "ax.legend()\n",
    "\n",
    "\n",
    "def autolabel(rects):\n",
    "    \"\"\"Attach a text label above each bar in *rects*, displaying its height.\"\"\"\n",
    "    for rect in rects:\n",
    "        height = rect.get_height()\n",
    "        ax.annotate('{}'.format(height),\n",
    "                    xy=(rect.get_x() + rect.get_width() / 2, height),\n",
    "                    xytext=(0, 3),  # 3 points vertical offset\n",
    "                    textcoords=\"offset points\",\n",
    "                    ha='center', va='bottom')\n",
    "\n",
    "\n",
    "#autolabel(rects1)\n",
    "#autolabel(rects2)\n",
    "#autolabel(rects3)\n",
    "\n",
    "#fig.tight_layout() # not sure what this does\n",
    "\n",
    "fig.set_size_inches(15, 9) #set figure size in inches \n",
    "\n",
    "fig.savefig('TrainingStepsVsAP.png', dpi=250) #uncomment to save the fig as png\n",
    "\n",
    "plt.show()"
   ]
  },
  {
   "cell_type": "code",
   "execution_count": null,
   "metadata": {},
   "outputs": [],
   "source": []
  }
 ],
 "metadata": {
  "kernelspec": {
   "display_name": "Python 3",
   "language": "python",
   "name": "python3"
  },
  "language_info": {
   "codemirror_mode": {
    "name": "ipython",
    "version": 3
   },
   "file_extension": ".py",
   "mimetype": "text/x-python",
   "name": "python",
   "nbconvert_exporter": "python",
   "pygments_lexer": "ipython3",
   "version": "3.5.2"
  }
 },
 "nbformat": 4,
 "nbformat_minor": 2
}
